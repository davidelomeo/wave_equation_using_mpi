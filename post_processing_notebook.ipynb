{
 "cells": [
  {
   "cell_type": "markdown",
   "metadata": {},
   "source": [
    "# Post-processing"
   ]
  },
  {
   "cell_type": "code",
   "execution_count": 1,
   "metadata": {},
   "outputs": [],
   "source": [
    "\"\"\"\n",
    "This program performs the post-processing needed to merge the individual\n",
    "outputs of the chunks of the domain into sigle files and visualises the result.\n",
    "\"\"\"\n",
    "\n",
    "# ================================== Imports ==================================\n",
    "import numpy as np\n",
    "import matplotlib.pyplot as plt\n",
    "import matplotlib.animation as animation\n",
    "\n",
    "# import only needed if the user wants to use Jupyter Notebooks\n",
    "# to visualise the animation\n",
    "from IPython.display import HTML\n",
    "\n",
    "# increasing the maximum memory available to matplotlib to create an animation\n",
    "from matplotlib import rcParams as pars\n",
    "pars['animation.embed_limit'] = 2**128\n",
    "\n",
    "# allowing the animation to be converted to a gif\n",
    "plt.rcParams['animation.convert_path'] = 'convert'\n",
    "# ============================================================================="
   ]
  },
  {
   "cell_type": "code",
   "execution_count": 2,
   "metadata": {
    "scrolled": false
   },
   "outputs": [],
   "source": [
    "# ========================= Post-Processing Function ==========================\n",
    "def post_processing(n_iter, n_procs, rows, cols):\n",
    "    '''The function uses the number of column/ row and processors\n",
    "    used in the domain decomposition to determine how to concatenate\n",
    "    the chunks of the domain that each prcessor was assigned.\n",
    "    The script loads the .dat files stored in 'array_output' folder\n",
    "    and assign a processor number and iteration to it, following\n",
    "    the same naming convenction used in the main program to save\n",
    "    the files.\n",
    "    At each iteration, the program concatenates the .dat files\n",
    "    column-wise first, and row-wise after. This approach allows to\n",
    "    deal with any input i,j number, including single processors\n",
    "\n",
    "    Parameters.\n",
    "    n_iter:   number of iterations\n",
    "    n_procs:  number of processors used in the domain decomposition\n",
    "    rows:     number of rows of the decomposition\n",
    "    cols:     number of cols of the decomposition\n",
    "\n",
    "    Output.\n",
    "    A list of np.arrays, each defining the combination of all the\n",
    "    chunks that the domain was split into at each iteration. The\n",
    "    file is saved as 'post_proc_<iter>' in the 'post_proc_arrays'\n",
    "    folder.\n",
    "    '''\n",
    "\n",
    "    # empty lists to store the merged chunk of the domain as columns\n",
    "    # and the fully merged arrays\n",
    "    domain_col = []\n",
    "    full_domain = []\n",
    "\n",
    "    # storing a string that will be used to identify the processor and\n",
    "    # and iteration within the main loop\n",
    "    file_path = './array_output/out_iter_{:d}_proc_{:d}.dat'\n",
    "\n",
    "    # iterating n_iter times\n",
    "    for i in range(n_iter):\n",
    "        for col in range(cols):\n",
    "            # setting empty array\n",
    "            array_0 = np.empty([])\n",
    "\n",
    "            for row in range(rows):\n",
    "                # getting the id of the node of the current chunk of the domain\n",
    "                proc_id = row * cols + col\n",
    "\n",
    "                # loading the .dat files. If row == 0, then the current chunk\n",
    "                # of the domain will act as pivot, and all the remaining chunks\n",
    "                # will be appended column-wise\n",
    "                if row == 0:\n",
    "                    array_0 = np.loadtxt(file_path.format(i, proc_id))\n",
    "                else:\n",
    "                    array = np.loadtxt(file_path.format(i, proc_id))\n",
    "\n",
    "                    # concatenating the current chunk with the pivot\n",
    "                    array_0 = np.concatenate((array_0, array), axis=0)\n",
    "\n",
    "            # appending the column to the empty list\n",
    "            domain_col.append(array_0)\n",
    "\n",
    "        if cols != 1:\n",
    "            # concatenating arrays row-wise\n",
    "            full_domain.append(\n",
    "                np.concatenate(\n",
    "                    (domain_col[-2], domain_col[-1]),\n",
    "                    axis=1))\n",
    "        else:\n",
    "            # assignign the column as the full domain if the domain\n",
    "            # length = 1 across\n",
    "            full_domain = domain_col\n",
    "            continue\n",
    "\n",
    "    return full_domain\n",
    "# =============================================================================\n",
    "\n",
    "\n",
    "# ========================= Visualisation Function ============================\n",
    "def frame_plotting(frame_number, Z, plot):\n",
    "    '''Function that outputs each individual timeframe from the\n",
    "    input animation.\n",
    "    '''\n",
    "    ax.clear()\n",
    "    Z = np.loadtxt(\n",
    "        './post_proc_arrays/post_proc_{0:d}.dat'.format(frame_number))\n",
    "    plot = ax.plot_surface(X, Y, Z, **plot_args)\n",
    "    ax.set_zlim(-4, 4)\n",
    "    ax.set_xlabel('$x$', fontsize=14)\n",
    "    ax.set_ylabel('$y$', fontsize=14)\n",
    "    ax.set_zlabel('$z$', fontsize=14)\n",
    "    title = ('Domain Evolution - ' +\n",
    "             boundaries_flag + ' ' +\n",
    "             fixed_bound_type + ' - iter {0:d}')\n",
    "    ax.set_title(title.format(frame_number), fontsize=16)\n",
    "    return plot,\n",
    "# ============================================================================="
   ]
  },
  {
   "cell_type": "code",
   "execution_count": 3,
   "metadata": {},
   "outputs": [
    {
     "name": "stdout",
     "output_type": "stream",
     "text": [
      "rows: 3  cols: 1  procs: 3  n_iter: 301  imax: 100  jmax: 100 Fixed Boundaries Neumann IDs:  3\n"
     ]
    }
   ],
   "source": [
    "# ============================= Post_processing ===============================\n",
    "# loading problem parameters from .dat file\n",
    "domain_parameters = np.loadtxt('./array_output/domain_parameters.dat')\n",
    "rows = int(domain_parameters[0])\n",
    "cols = int(domain_parameters[1])\n",
    "n_procs = int(domain_parameters[2])\n",
    "n_iter = int(domain_parameters[3])\n",
    "imax = int(domain_parameters[4])\n",
    "jmax = int(domain_parameters[5])\n",
    "ini_dist = int(domain_parameters[8])\n",
    "\n",
    "# if statements to identify the type of boundaries used in the domain.\n",
    "# This will then form the tile of the plot.\n",
    "boundaries_flag = \"\"\n",
    "fixed_bound_type = \"\"\n",
    "if int(domain_parameters[6]) == 1:\n",
    "    boundaries_flag = \"Periodic Boundaries\"\n",
    "else:\n",
    "    boundaries_flag = \"Fixed Boundaries\"\n",
    "    if int(domain_parameters[7]) == 1:\n",
    "        fixed_bound_type = \"Neumann\"\n",
    "    else:\n",
    "        fixed_bound_type = \"Dirichlet\"\n",
    "\n",
    "# printing out the values for debugging purposes\n",
    "print(\"rows:\", rows, \" cols:\", cols, \" procs:\", n_procs,\n",
    "      \" n_iter:\", n_iter, \" imax:\", imax, \" jmax:\", jmax,\n",
    "      boundaries_flag, fixed_bound_type, \"IDs: \", ini_dist)\n",
    "\n",
    "# storing the list obtained from the post-processing function\n",
    "domain_evolution = post_processing(n_iter, n_procs, rows, cols)\n",
    "\n",
    "# writing .dat files for each iteration for future plotting purposes\n",
    "for i in range(n_iter):\n",
    "    with open('./post_proc_arrays/post_proc_{0:d}.dat'.format(i), 'w') as data:\n",
    "        np.savetxt(data, domain_evolution[i], delimiter=' ')\n",
    "# ============================================================================="
   ]
  },
  {
   "cell_type": "code",
   "execution_count": 96,
   "metadata": {},
   "outputs": [],
   "source": [
    "# ============================ Visualisation ==================================\n",
    "# setting up the mesh size and loading the domain at t=0\n",
    "X = np.linspace(0, 100, imax)\n",
    "Y = np.linspace(0, 100, jmax)\n",
    "X, Y = np.meshgrid(Y, X)\n",
    "Z = np.loadtxt('./post_proc_arrays/post_proc_0.dat')\n",
    "\n",
    "# setting up plot parameters\n",
    "plot_args = {'rstride': 1, 'cstride': 1, 'cmap': 'coolwarm',\n",
    "             'linewidth': 0., 'antialiased': True, 'color': 'w'}\n",
    "\n",
    "# creating figure and setting 3d projection\n",
    "fig = plt.figure(figsize=(12, 12))\n",
    "ax = fig.add_subplot(111, projection='3d')\n",
    "\n",
    "# plotting the figure at t=0\n",
    "plot = ax.plot_surface(X, Y, Z, **plot_args)\n",
    "grid_size = str(imax) + \" x \" + str(jmax)\n",
    "plt.suptitle(grid_size + \" matrix\", fontsize=14)\n",
    "plt.close()\n",
    "\n",
    "# compute the animation for n iterations with\n",
    "animation = animation.FuncAnimation(fig, frame_plotting,\n",
    "                                    frames=np.arange(0, n_iter),\n",
    "                                    fargs=(Z, plot), interval=100,\n",
    "                                    blit=True)\n",
    "\n",
    "# outputting the animation - Uncomment this line if wanting to show the\n",
    "# animation with a control bar within the Jupyter Notebook\n",
    "HTML(animation.to_jshtml())\n",
    "\n",
    "# saving the animation to a GIF\n",
    "filename = (str(ini_dist) + ' IDs ' + boundaries_flag +\n",
    "            ' ' + fixed_bound_type + ' ' +\n",
    "            grid_size + '.gif').replace(\" \", \"_\")\n",
    "animation.save('./images/' + filename,\n",
    "               writer='imagemagick', fps=80)\n",
    "# ============================================================================="
   ]
  },
  {
   "cell_type": "markdown",
   "metadata": {},
   "source": [
    "# Testing"
   ]
  },
  {
   "cell_type": "markdown",
   "metadata": {},
   "source": [
    "### Checking match between serial and parallel fixed boudaries decomposition"
   ]
  },
  {
   "cell_type": "code",
   "execution_count": 7,
   "metadata": {
    "scrolled": true
   },
   "outputs": [
    {
     "name": "stdout",
     "output_type": "stream",
     "text": [
      "True\n"
     ]
    }
   ],
   "source": [
    "for i in range(n_iter):\n",
    "    serial = np.loadtxt(\n",
    "        './serial_nonperiodic_output/out_iter_{0:d}_proc_0.dat'.format(i))\n",
    "    parallel = np.loadtxt(\n",
    "        './post_proc_arrays/post_proc_{0:d}.dat'.format(i))\n",
    "    print(np.allclose(serial, parallel) is True)"
   ]
  },
  {
   "cell_type": "markdown",
   "metadata": {},
   "source": [
    "### Checking match between serial and parallel periodic boudaries decomposition"
   ]
  },
  {
   "cell_type": "code",
   "execution_count": 5,
   "metadata": {},
   "outputs": [],
   "source": [
    "for i in range(n_iter):\n",
    "    serial = np.loadtxt(\n",
    "        './serial_periodic_output/out_iter_{0:d}_proc_0.dat'.format(i))\n",
    "    parallel = np.loadtxt(\n",
    "        './post_proc_arrays/post_proc_{0:d}.dat'.format(i))\n",
    "    print(np.allclose(serial, parallel) is True)"
   ]
  }
 ],
 "metadata": {
  "kernelspec": {
   "display_name": "Python 3",
   "language": "python",
   "name": "python3"
  },
  "language_info": {
   "codemirror_mode": {
    "name": "ipython",
    "version": 3
   },
   "file_extension": ".py",
   "mimetype": "text/x-python",
   "name": "python",
   "nbconvert_exporter": "python",
   "pygments_lexer": "ipython3",
   "version": "3.8.5"
  }
 },
 "nbformat": 4,
 "nbformat_minor": 4
}
